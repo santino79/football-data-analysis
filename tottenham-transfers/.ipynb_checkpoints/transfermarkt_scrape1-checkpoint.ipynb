{
 "cells": [
  {
   "cell_type": "code",
   "execution_count": 1,
   "id": "1d93c0b8-147f-4de1-97b4-f40d9b11b887",
   "metadata": {},
   "outputs": [],
   "source": [
    "import requests\n",
    "from bs4 import BeautifulSoup\n",
    "import pandas as pd"
   ]
  },
  {
   "cell_type": "code",
   "execution_count": 11,
   "id": "9eb19c69-c98a-40e5-9b8d-cb1964bd8cd5",
   "metadata": {},
   "outputs": [],
   "source": [
    "headers = {'User-Agent': \n",
    "           'Mozilla/5.0 (X11; Linux x86_64) AppleWebKit/537.36 (KHTML, like Gecko) Chrome/47.0.2526.106 Safari/537.36'}\n",
    "page = \"https://www.transfermarkt.co.uk/tottenham-hotspur/alletransfers/verein/148\"\n",
    "pageTree = requests.get(page, headers=headers)\n",
    "soup = BeautifulSoup(pageTree.content, 'html.parser')"
   ]
  },
  {
   "cell_type": "code",
   "execution_count": 12,
   "id": "9d93fc5f-fbe9-4a69-81ad-3a634c7041d6",
   "metadata": {},
   "outputs": [
    {
     "data": {
      "text/plain": [
       "'Giovani Lo Celso'"
      ]
     },
     "execution_count": 12,
     "metadata": {},
     "output_type": "execute_result"
    }
   ],
   "source": [
    "Players = soup.find_all(\"a\", {\"class\": \"spielprofil_tooltip\"})\n",
    "\n",
    "Players[2].text"
   ]
  },
  {
   "cell_type": "code",
   "execution_count": 13,
   "id": "cba41179-6dae-4629-ba4b-09b2b88dd9c2",
   "metadata": {},
   "outputs": [
    {
     "data": {
      "text/plain": [
       "'Real Betis'"
      ]
     },
     "execution_count": 13,
     "metadata": {},
     "output_type": "execute_result"
    }
   ],
   "source": [
    "Clubs = soup.find_all(\"a\", {\"class\": \"vereinprofil_tooltip\"})\n",
    "Clubs[1].text"
   ]
  },
  {
   "cell_type": "code",
   "execution_count": 14,
   "id": "81343f2a-ab9a-47e3-b1a6-0aabdf7ce7d0",
   "metadata": {},
   "outputs": [
    {
     "data": {
      "text/plain": [
       "'Loan fee:£2.70m'"
      ]
     },
     "execution_count": 14,
     "metadata": {},
     "output_type": "execute_result"
    }
   ],
   "source": [
    "Values = soup.find_all(\"td\", {\"class\": \"rechts\"})\n",
    "\n",
    "Values[8].text"
   ]
  },
  {
   "cell_type": "code",
   "execution_count": 15,
   "id": "b7a1252a-cfe8-4852-aad5-344c8ed2ca44",
   "metadata": {},
   "outputs": [
    {
     "data": {
      "text/plain": [
       "'Arrivals 21/22'"
      ]
     },
     "execution_count": 15,
     "metadata": {},
     "output_type": "execute_result"
    }
   ],
   "source": [
    "tableHeads = soup.find_all(\"div\", {\"class\": \"table-header\"})\n",
    "tableHeads[3].text.replace(\"\\n\",\"\").strip()"
   ]
  },
  {
   "cell_type": "code",
   "execution_count": 57,
   "id": "5f658e34-59e9-4007-81cb-151896733267",
   "metadata": {},
   "outputs": [
    {
     "name": "stdout",
     "output_type": "stream",
     "text": [
      "Departures 21/22\n",
      "Arrivals 20/21\n",
      "Departures 20/21\n",
      "Arrivals 19/20\n",
      "Departures 19/20\n",
      "Arrivals 18/19\n",
      "Departures 18/19\n",
      "Arrivals 17/18\n",
      "Departures 17/18\n",
      "Arrivals 16/17\n",
      "Departures 16/17\n",
      "Arrivals 15/16\n",
      "Departures 15/16\n",
      "Arrivals 14/15\n",
      "Departures 14/15\n",
      "Arrivals 13/14\n",
      "Departures 13/14\n",
      "Arrivals 12/13\n",
      "Departures 12/13\n",
      "Arrivals 11/12\n",
      "Departures 11/12\n",
      "Arrivals 10/11\n",
      "Departures 10/11\n",
      "Arrivals 09/10\n",
      "Departures 09/10\n",
      "Arrivals 08/09\n",
      "Departures 08/09\n",
      "Arrivals 07/08\n",
      "Departures 07/08\n",
      "Arrivals 06/07\n",
      "Departures 06/07\n",
      "Arrivals 05/06\n",
      "Departures 05/06\n",
      "Arrivals 04/05\n",
      "Departures 04/05\n",
      "Arrivals 03/04\n",
      "Departures 03/04\n",
      "Arrivals 02/03\n",
      "Departures 02/03\n",
      "Arrivals 01/02\n",
      "Departures 01/02\n",
      "Arrivals 00/01\n",
      "Departures 00/01\n",
      "Arrivals 99/00\n",
      "Departures 99/00\n",
      "Arrivals 98/99\n",
      "Departures 98/99\n",
      "Arrivals 97/98\n",
      "Departures 97/98\n",
      "Arrivals 96/97\n",
      "Departures 96/97\n",
      "Arrivals 95/96\n",
      "Departures 95/96\n",
      "Arrivals 94/95\n",
      "Departures 94/95\n",
      "Arrivals 93/94\n",
      "Departures 93/94\n",
      "Arrivals 92/93\n",
      "Departures 92/93\n",
      "Arrivals 91/92\n",
      "Departures 91/92\n",
      "Arrivals 90/91\n",
      "Departures 90/91\n",
      "Arrivals 89/90\n",
      "Departures 89/90\n",
      "Arrivals 88/89\n",
      "Departures 88/89\n",
      "Arrivals 87/88\n",
      "Departures 87/88\n",
      "Arrivals 86/87\n",
      "Departures 86/87\n",
      "Arrivals 85/86\n",
      "Departures 85/86\n",
      "Arrivals 84/85\n",
      "Departures 84/85\n",
      "Arrivals 83/84\n",
      "Departures 83/84\n",
      "Arrivals 82/83\n",
      "Departures 82/83\n",
      "Arrivals 81/82\n",
      "Departures 81/82\n",
      "Arrivals 80/81\n",
      "Departures 80/81\n",
      "Arrivals 79/80\n",
      "Departures 79/80\n",
      "Arrivals 78/79\n",
      "Departures 78/79\n",
      "Arrivals 77/78\n",
      "Departures 77/78\n",
      "Arrivals 76/77\n",
      "Departures 76/77\n",
      "Arrivals 75/76\n",
      "Departures 75/76\n",
      "Arrivals 74/75\n",
      "Departures 74/75\n",
      "Arrivals 73/74\n",
      "Departures 73/74\n",
      "Arrivals 72/73\n",
      "Departures 72/73\n",
      "Arrivals 71/72\n",
      "Departures 71/72\n",
      "Arrivals 70/71\n",
      "Departures 70/71\n",
      "Arrivals 69/70\n",
      "Departures 69/70\n",
      "Arrivals 68/69\n",
      "Departures 68/69\n",
      "Arrivals 67/68\n",
      "Departures 67/68\n",
      "Arrivals 66/67\n",
      "Departures 66/67\n",
      "Arrivals 65/66\n",
      "Departures 65/66\n",
      "Arrivals 64/65\n",
      "Departures 64/65\n",
      "Arrivals 63/64\n",
      "Departures 63/64\n",
      "Arrivals 62/63\n",
      "Departures 62/63\n",
      "Arrivals 61/62\n",
      "Departures 61/62\n",
      "Arrivals 60/61\n",
      "Departures 60/61\n",
      "Arrivals 59/60\n",
      "Departures 59/60\n",
      "Arrivals 58/59\n",
      "Departures 58/59\n",
      "Arrivals 57/58\n",
      "Departures 57/58\n",
      "Arrivals 56/57\n",
      "Departures 56/57\n",
      "Arrivals 55/56\n",
      "Departures 55/56\n",
      "Arrivals 54/55\n",
      "Departures 54/55\n",
      "Arrivals 53/54\n",
      "Departures 53/54\n",
      "Arrivals 52/53\n",
      "Departures 52/53\n",
      "Arrivals 51/52\n",
      "Departures 51/52\n",
      "Arrivals 50/51\n",
      "Departures 50/51\n",
      "Arrivals 49/50\n",
      "Departures 49/50\n",
      "Arrivals 48/49\n",
      "Departures 48/49\n",
      "Arrivals 47/48\n",
      "Departures 47/48\n",
      "Arrivals 46/47\n",
      "Departures 46/47\n",
      "Arrivals 44/45\n",
      "Departures 44/45\n",
      "Arrivals 43/44\n",
      "Departures 43/44\n",
      "Arrivals 40/41\n",
      "Departures 40/41\n",
      "Arrivals 39/40\n",
      "Departures 39/40\n",
      "Arrivals 38/39\n",
      "Departures 38/39\n",
      "Arrivals 37/38\n",
      "Departures 37/38\n",
      "Arrivals 36/37\n",
      "Departures 36/37\n",
      "Arrivals 34/35\n",
      "Departures 34/35\n",
      "Arrivals 33/34\n",
      "Departures 33/34\n",
      "Arrivals 32/33\n",
      "Departures 32/33\n",
      "Arrivals 30/31\n",
      "Departures 30/31\n",
      "Arrivals 1929/30\n",
      "Departures 1929/30\n",
      "Arrivals 1920/21\n",
      "Departures 1920/21\n",
      "Arrivals 1919/20\n",
      "Departures 1919/20\n",
      "Arrivals 1917/18\n",
      "Departures 1917/18\n",
      "Arrivals 1910/11\n",
      "Departures 1910/11\n",
      "Arrivals 1909/10\n",
      "Departures 1909/10\n",
      "Arrivals 1901/02\n",
      "Departures 1901/02\n",
      "Arrivals 1896/97\n",
      "Departures 1896/97\n",
      "Arrivals 1895/96\n",
      "Departures 1895/96\n",
      "Arrivals 1894/95\n",
      "Departures 1894/95\n"
     ]
    }
   ],
   "source": [
    "# Scraping Tottenham transfers all-time from transfermarkt.co.uk\n",
    "# scraping tables tutorial: https://towardsdatascience.com/web-scraping-scraping-table-data-1665b6b2271c\n",
    "\n",
    "boxes = soup.find_all(\"div\", {\"class\": \"box\"})\n",
    "#print(\"Number of boxes on page:\", len(boxes))\n",
    "\n",
    "headings=['trndesc','player','club_badge','club','fee']\n",
    "all_rows = []\n",
    "\n",
    "for i in range(4,len(boxes)-1):\n",
    "\n",
    "    box1 = boxes[i]\n",
    "\n",
    "    tableHead = box1.find_all(\"div\", {\"class\": \"table-header\"})\n",
    "    \n",
    "    tableDesc = tableHead[0].text.replace(\"\\n\",\"\").strip()\n",
    "    #print(tableDesc)\n",
    "\n",
    "    body = box1.find_all(\"tr\")\n",
    "\n",
    "    if body:\n",
    "        head = body[0]\n",
    "        body_rows = body[1:]\n",
    "\n",
    "\n",
    "        for row_num in range(len(body_rows)-1):\n",
    "            row = []\n",
    "            row.append(tableDesc)\n",
    "            for row_item in body_rows[row_num].find_all(\"td\"):\n",
    "                aa = row_item.text\n",
    "                row.append(aa)\n",
    "            all_rows.append(row)"
   ]
  },
  {
   "cell_type": "code",
   "execution_count": 58,
   "id": "d5e3aa8c-b774-46ff-97af-2eb6d07921ed",
   "metadata": {},
   "outputs": [
    {
     "data": {
      "text/html": [
       "<div>\n",
       "<style scoped>\n",
       "    .dataframe tbody tr th:only-of-type {\n",
       "        vertical-align: middle;\n",
       "    }\n",
       "\n",
       "    .dataframe tbody tr th {\n",
       "        vertical-align: top;\n",
       "    }\n",
       "\n",
       "    .dataframe thead th {\n",
       "        text-align: right;\n",
       "    }\n",
       "</style>\n",
       "<table border=\"1\" class=\"dataframe\">\n",
       "  <thead>\n",
       "    <tr style=\"text-align: right;\">\n",
       "      <th></th>\n",
       "      <th>trndesc</th>\n",
       "      <th>player</th>\n",
       "      <th>club_badge</th>\n",
       "      <th>club</th>\n",
       "      <th>fee</th>\n",
       "    </tr>\n",
       "  </thead>\n",
       "  <tbody>\n",
       "    <tr>\n",
       "      <th>0</th>\n",
       "      <td>Departures 21/22</td>\n",
       "      <td>Danny Rose</td>\n",
       "      <td></td>\n",
       "      <td>Without Club</td>\n",
       "      <td>-</td>\n",
       "    </tr>\n",
       "    <tr>\n",
       "      <th>1</th>\n",
       "      <td>Departures 21/22</td>\n",
       "      <td>Paulo Gazzaniga</td>\n",
       "      <td></td>\n",
       "      <td>Without Club</td>\n",
       "      <td>-</td>\n",
       "    </tr>\n",
       "    <tr>\n",
       "      <th>2</th>\n",
       "      <td>Arrivals 20/21</td>\n",
       "      <td>Giovani Lo Celso</td>\n",
       "      <td></td>\n",
       "      <td>Real Betis</td>\n",
       "      <td>£28.80m</td>\n",
       "    </tr>\n",
       "    <tr>\n",
       "      <th>3</th>\n",
       "      <td>Arrivals 20/21</td>\n",
       "      <td>Sergio Reguilón</td>\n",
       "      <td></td>\n",
       "      <td>Real Madrid</td>\n",
       "      <td>£27.00m</td>\n",
       "    </tr>\n",
       "    <tr>\n",
       "      <th>4</th>\n",
       "      <td>Arrivals 20/21</td>\n",
       "      <td>Matt Doherty</td>\n",
       "      <td></td>\n",
       "      <td>Wolves</td>\n",
       "      <td>£15.12m</td>\n",
       "    </tr>\n",
       "  </tbody>\n",
       "</table>\n",
       "</div>"
      ],
      "text/plain": [
       "            trndesc            player club_badge          club      fee\n",
       "0  Departures 21/22        Danny Rose             Without Club        -\n",
       "1  Departures 21/22   Paulo Gazzaniga             Without Club        -\n",
       "2    Arrivals 20/21  Giovani Lo Celso               Real Betis  £28.80m\n",
       "3    Arrivals 20/21   Sergio Reguilón              Real Madrid  £27.00m\n",
       "4    Arrivals 20/21      Matt Doherty                   Wolves  £15.12m"
      ]
     },
     "execution_count": 58,
     "metadata": {},
     "output_type": "execute_result"
    }
   ],
   "source": [
    "df = pd.DataFrame(data=all_rows, columns=headings)\n",
    "df.head()"
   ]
  },
  {
   "cell_type": "code",
   "execution_count": 60,
   "id": "a44847fc-f9af-4b35-a4aa-a149c5b4132a",
   "metadata": {},
   "outputs": [],
   "source": [
    "df.to_csv('tottenham-transfers.csv', index=False)"
   ]
  },
  {
   "cell_type": "code",
   "execution_count": null,
   "id": "be62bc5c-453b-456e-9a99-3b1072cbc10e",
   "metadata": {},
   "outputs": [],
   "source": []
  }
 ],
 "metadata": {
  "kernelspec": {
   "display_name": "Python 3",
   "language": "python",
   "name": "python3"
  },
  "language_info": {
   "codemirror_mode": {
    "name": "ipython",
    "version": 3
   },
   "file_extension": ".py",
   "mimetype": "text/x-python",
   "name": "python",
   "nbconvert_exporter": "python",
   "pygments_lexer": "ipython3",
   "version": "3.8.6"
  }
 },
 "nbformat": 4,
 "nbformat_minor": 5
}
